{
 "cells": [
  {
   "cell_type": "code",
   "execution_count": 1,
   "metadata": {},
   "outputs": [],
   "source": [
    "import numpy as np\n",
    "import pandas as pd\n",
    "from bs4 import BeautifulSoup\n",
    "import requests\n",
    "import sqlite3"
   ]
  },
  {
   "cell_type": "code",
   "execution_count": 2,
   "metadata": {},
   "outputs": [],
   "source": [
    "def dfFromURL(url, tableNumber=1):\n",
    "        # Parse the HTML as a string\n",
    "        soup = BeautifulSoup(requests.get(url).content, 'lxml')\n",
    "        tables = soup.find_all('table')\n",
    "        # check table number is within number of tables on the page\n",
    "        assert len(tables) >= tableNumber\n",
    "        df = pd.read_html(str(tables[tableNumber-1]))[0]\n",
    "       \n",
    "        # Dropping the duplicate header for each table\n",
    "        df.drop_duplicates(keep=False, inplace=True)\n",
    "        # Removing the '.'  from date (example( 08. January 2021 will convert to 08 january 2021))\n",
    "        df = df[:1]\n",
    "        df['date'] = df['date'].apply(lambda x: x[0:2]+x[3:])\n",
    "        # Removing the zero(0) from the start of date\n",
    "        df['date'] = np.where((df['date'].str.startswith('0')),\n",
    "                            df['date'].apply(lambda x: x[1:]), df['date'])\n",
    "        # changing the stings to proper datetime format\n",
    "        df['date'] = pd.to_datetime(df['date'], format=\"%d %B %Y\")\n",
    "        df.rename(columns=({'LME Copper Cash-Settlement': 'csp',\n",
    "                'LME Copper 3-month': 'fut', 'LME Copper stock': 'stock'}), inplace=True)\n",
    "        df.sort_values(by='date', inplace=True)\n",
    "        df.reset_index(inplace=True)\n",
    "        df.drop(columns='index', inplace=True)\n",
    "        return df "
   ]
  },
  {
   "cell_type": "code",
   "execution_count": 3,
   "metadata": {},
   "outputs": [],
   "source": [
    "url='https://www.westmetall.com/en/markdaten.php?action=table&field=LME_Cu_cash'\n",
    "df=dfFromURL(url)"
   ]
  },
  {
   "cell_type": "code",
   "execution_count": 4,
   "metadata": {},
   "outputs": [
    {
     "data": {
      "text/html": [
       "<div>\n",
       "<style scoped>\n",
       "    .dataframe tbody tr th:only-of-type {\n",
       "        vertical-align: middle;\n",
       "    }\n",
       "\n",
       "    .dataframe tbody tr th {\n",
       "        vertical-align: top;\n",
       "    }\n",
       "\n",
       "    .dataframe thead th {\n",
       "        text-align: right;\n",
       "    }\n",
       "</style>\n",
       "<table border=\"1\" class=\"dataframe\">\n",
       "  <thead>\n",
       "    <tr style=\"text-align: right;\">\n",
       "      <th></th>\n",
       "      <th>date</th>\n",
       "      <th>csp</th>\n",
       "      <th>fut</th>\n",
       "      <th>stock</th>\n",
       "    </tr>\n",
       "  </thead>\n",
       "  <tbody>\n",
       "    <tr>\n",
       "      <th>0</th>\n",
       "      <td>2022-06-01</td>\n",
       "      <td>9455.00</td>\n",
       "      <td>9455.00</td>\n",
       "      <td>145950</td>\n",
       "    </tr>\n",
       "  </tbody>\n",
       "</table>\n",
       "</div>"
      ],
      "text/plain": [
       "        date      csp      fut   stock\n",
       "0 2022-06-01  9455.00  9455.00  145950"
      ]
     },
     "execution_count": 4,
     "metadata": {},
     "output_type": "execute_result"
    }
   ],
   "source": [
    "df"
   ]
  },
  {
   "cell_type": "code",
   "execution_count": 11,
   "metadata": {},
   "outputs": [
    {
     "data": {
      "text/plain": [
       "0    9455.00\n",
       "Name: csp, dtype: object"
      ]
     },
     "execution_count": 11,
     "metadata": {},
     "output_type": "execute_result"
    }
   ],
   "source": [
    "df['csp']"
   ]
  },
  {
   "cell_type": "code",
   "execution_count": null,
   "metadata": {},
   "outputs": [],
   "source": []
  }
 ],
 "metadata": {
  "interpreter": {
   "hash": "2043299c89c8cd0b4d1a6f5cf4529bd58e6a4e0fe3181a25e0d328c821cdc5c5"
  },
  "kernelspec": {
   "display_name": "Python 3.8.8 ('base')",
   "language": "python",
   "name": "python3"
  },
  "language_info": {
   "codemirror_mode": {
    "name": "ipython",
    "version": 3
   },
   "file_extension": ".py",
   "mimetype": "text/x-python",
   "name": "python",
   "nbconvert_exporter": "python",
   "pygments_lexer": "ipython3",
   "version": "3.8.8"
  },
  "orig_nbformat": 4
 },
 "nbformat": 4,
 "nbformat_minor": 2
}
